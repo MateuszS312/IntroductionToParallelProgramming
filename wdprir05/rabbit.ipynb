{
 "cells": [
  {
   "cell_type": "code",
   "execution_count": 2,
   "metadata": {},
   "outputs": [],
   "source": [
    "import pika\n",
    "import sys\n",
    "import os\n",
    "from threading import Thread"
   ]
  },
  {
   "cell_type": "code",
   "execution_count": 14,
   "metadata": {},
   "outputs": [],
   "source": [
    "def sender(host_name):\n",
    "    print(host_name)\n",
    "    connection = pika.BlockingConnection(\n",
    "        pika.ConnectionParameters(host=host_name))\n",
    "    channel = connection.channel()\n",
    "\n",
    "    channel.exchange_declare(exchange='logs', exchange_type='fanout')\n",
    "    while True:\n",
    "        message = input()\n",
    "        channel.basic_publish(exchange='logs', routing_key='', body=message)\n",
    "        print(\" [x] Sent %r\" % message)\n",
    "    \n",
    "\n",
    "    connection.close()\n",
    "    "
   ]
  },
  {
   "cell_type": "code",
   "execution_count": 17,
   "metadata": {},
   "outputs": [
    {
     "name": "stdout",
     "output_type": "stream",
     "text": [
      "localhost\n"
     ]
    },
    {
     "name": "stderr",
     "output_type": "stream",
     "text": [
      "Exception in thread Thread-10:\n",
      "Traceback (most recent call last):\n",
      "  File \"E:\\programy\\pyton\\lib\\threading.py\", line 926, in _bootstrap_inner\n",
      "    self.run()\n",
      "  File \"E:\\programy\\pyton\\lib\\threading.py\", line 870, in run\n",
      "    self._target(*self._args, **self._kwargs)\n",
      "  File \"<ipython-input-14-36b6389b886b>\", line 9, in sender\n",
      "    message = input()\n",
      "EOFError: EOF when reading a line\n",
      "\n"
     ]
    }
   ],
   "source": [
    "# thread = Thread(target = sender, args=((\"localhost\",)))\n",
    "thread = Thread(target =sender, args=((\"localhost\",)))\n",
    "thread.start()"
   ]
  },
  {
   "cell_type": "code",
   "execution_count": 7,
   "metadata": {},
   "outputs": [],
   "source": [
    "def main():\n",
    "    connection = pika.BlockingConnection(\n",
    "        pika.ConnectionParameters(host='localhost'))\n",
    "    channel = connection.channel()\n",
    "\n",
    "    channel.exchange_declare(exchange='logs', exchange_type='fanout')\n",
    "\n",
    "    result = channel.queue_declare(queue='', exclusive=True)\n",
    "    queue_name = result.method.queue\n",
    "\n",
    "    channel.queue_bind(exchange='logs', queue=queue_name)\n",
    "\n",
    "    def callback(ch, method, properties, body):\n",
    "        print(\" [x] %r\" % body.decode())\n",
    "\n",
    "    print(' [*] Waiting for logs. To exit press CTRL+C')\n",
    "    channel.basic_consume(\n",
    "        queue=queue_name, on_message_callback=callback, auto_ack=True)\n",
    "\n",
    "    channel.start_consuming()\n",
    "\n",
    "\n",
    "# if __name__ == '__main__':\n",
    "#     try:\n",
    "#         main()\n",
    "#     except KeyboardInterrupt:\n",
    "#         print('Interrupted')\n",
    "#         try:\n",
    "#             sys.exit(0)\n",
    "#         except SystemExit:\n",
    "#             os._exit(0)"
   ]
  }
 ],
 "metadata": {
  "interpreter": {
   "hash": "e61a108bfe9716cee0a66e76f0ef7cf4f1cf47d1dd0935768b3075a59b415b93"
  },
  "kernelspec": {
   "display_name": "Python 3.7.10 64-bit ('base': conda)",
   "language": "python",
   "name": "python3"
  },
  "language_info": {
   "codemirror_mode": {
    "name": "ipython",
    "version": 3
   },
   "file_extension": ".py",
   "mimetype": "text/x-python",
   "name": "python",
   "nbconvert_exporter": "python",
   "pygments_lexer": "ipython3",
   "version": "3.7.10"
  },
  "orig_nbformat": 4
 },
 "nbformat": 4,
 "nbformat_minor": 2
}
